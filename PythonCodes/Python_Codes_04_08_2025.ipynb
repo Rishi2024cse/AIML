{
  "nbformat": 4,
  "nbformat_minor": 0,
  "metadata": {
    "colab": {
      "provenance": []
    },
    "kernelspec": {
      "name": "python3",
      "display_name": "Python 3"
    },
    "language_info": {
      "name": "python"
    }
  },
  "cells": [
    {
      "cell_type": "code",
      "source": [
        "var1 = 10\n",
        "var2 = 12\n",
        "var3 = var1 + var2\n",
        "print(var3)"
      ],
      "metadata": {
        "id": "RrHt8DPCBLD0"
      },
      "execution_count": null,
      "outputs": []
    },
    {
      "cell_type": "code",
      "source": [
        "type(var3)"
      ],
      "metadata": {
        "id": "RJVGqp_tBRDB"
      },
      "execution_count": null,
      "outputs": []
    },
    {
      "cell_type": "code",
      "source": [
        "var1 = 10\n",
        "var2 = 12.2\n",
        "var3 = var1 + var2\n",
        "print(var3)"
      ],
      "metadata": {
        "id": "SSrSoUhfBTlt"
      },
      "execution_count": null,
      "outputs": []
    },
    {
      "cell_type": "code",
      "source": [
        "type(var3)"
      ],
      "metadata": {
        "id": "F6qYmWoQBVEh"
      },
      "execution_count": null,
      "outputs": []
    },
    {
      "cell_type": "code",
      "source": [
        "3+6"
      ],
      "metadata": {
        "id": "rRwVUjT9BWwH"
      },
      "execution_count": null,
      "outputs": []
    },
    {
      "cell_type": "code",
      "source": [
        "#%%\n",
        "(50 - 5*6) / 4"
      ],
      "metadata": {
        "id": "pAp8HRYxBYfQ"
      },
      "execution_count": null,
      "outputs": []
    },
    {
      "cell_type": "code",
      "source": [
        "17 / 3"
      ],
      "metadata": {
        "id": "2jlH8oqqBaUl"
      },
      "execution_count": null,
      "outputs": []
    },
    {
      "cell_type": "code",
      "source": [
        "17 // 3"
      ],
      "metadata": {
        "id": "QX5OrwjgBbsC"
      },
      "execution_count": null,
      "outputs": []
    },
    {
      "cell_type": "code",
      "source": [
        "17 % 3"
      ],
      "metadata": {
        "colab": {
          "base_uri": "https://localhost:8080/"
        },
        "id": "rShemOdzBdrg",
        "outputId": "17778aff-505c-4811-85b8-eda49cd8bba5"
      },
      "execution_count": 2,
      "outputs": [
        {
          "output_type": "execute_result",
          "data": {
            "text/plain": [
              "2"
            ]
          },
          "metadata": {},
          "execution_count": 2
        }
      ]
    },
    {
      "cell_type": "code",
      "source": [
        "'sam\\'s eggs'"
      ],
      "metadata": {
        "colab": {
          "base_uri": "https://localhost:8080/",
          "height": 35
        },
        "id": "bCXUG39eBe_8",
        "outputId": "04ea4c41-df63-4110-c50f-9d60939821a6"
      },
      "execution_count": 3,
      "outputs": [
        {
          "output_type": "execute_result",
          "data": {
            "text/plain": [
              "\"sam's eggs\""
            ],
            "application/vnd.google.colaboratory.intrinsic+json": {
              "type": "string"
            }
          },
          "metadata": {},
          "execution_count": 3
        }
      ]
    },
    {
      "cell_type": "code",
      "source": [
        "s = 'First line.\\tSecond line.'"
      ],
      "metadata": {
        "id": "R6nOEGpRBk93"
      },
      "execution_count": null,
      "outputs": []
    },
    {
      "cell_type": "code",
      "source": [
        "s"
      ],
      "metadata": {
        "id": "Tox5vVpdBpD2"
      },
      "execution_count": null,
      "outputs": []
    },
    {
      "cell_type": "code",
      "source": [
        "print(s)"
      ],
      "metadata": {
        "id": "FjTTnO0GBshh"
      },
      "execution_count": null,
      "outputs": []
    },
    {
      "cell_type": "code",
      "source": [
        "print( 'First line.\\nSecond line.')"
      ],
      "metadata": {
        "id": "4zNRUaE2Bty9"
      },
      "execution_count": null,
      "outputs": []
    },
    {
      "cell_type": "code",
      "source": [
        "5*'un' + 'ited'"
      ],
      "metadata": {
        "id": "2lGoQyMhBvR2"
      },
      "execution_count": null,
      "outputs": []
    },
    {
      "cell_type": "code",
      "source": [
        "a = 'Py'       'thon'\n",
        "print(a)"
      ],
      "metadata": {
        "id": "iV7E_ik_Bwux"
      },
      "execution_count": null,
      "outputs": []
    },
    {
      "cell_type": "code",
      "source": [
        "word = 'Python'"
      ],
      "metadata": {
        "id": "bjW0bqjBB5dT"
      },
      "execution_count": null,
      "outputs": []
    },
    {
      "cell_type": "code",
      "source": [
        "print(word)"
      ],
      "metadata": {
        "id": "nbwVgC6_B8Yj"
      },
      "execution_count": null,
      "outputs": []
    },
    {
      "cell_type": "code",
      "source": [
        "print(word[0])"
      ],
      "metadata": {
        "id": "rheIbCa-B-Vu"
      },
      "execution_count": null,
      "outputs": []
    },
    {
      "cell_type": "code",
      "source": [
        "print(word[5])"
      ],
      "metadata": {
        "id": "FLZeBcoGCAGF"
      },
      "execution_count": null,
      "outputs": []
    },
    {
      "cell_type": "code",
      "source": [
        "word[-1]"
      ],
      "metadata": {
        "id": "Jo-x8_wRCBXX"
      },
      "execution_count": null,
      "outputs": []
    },
    {
      "cell_type": "code",
      "source": [
        "word[-6]"
      ],
      "metadata": {
        "id": "s2B8AZgMCDM6"
      },
      "execution_count": null,
      "outputs": []
    },
    {
      "cell_type": "code",
      "source": [
        "word"
      ],
      "metadata": {
        "id": "6QFJu0gaCEnj"
      },
      "execution_count": null,
      "outputs": []
    },
    {
      "cell_type": "code",
      "source": [
        "word[2:4]"
      ],
      "metadata": {
        "id": "nxacYh_hCF1I"
      },
      "execution_count": null,
      "outputs": []
    },
    {
      "cell_type": "code",
      "source": [
        "word[ :4]"
      ],
      "metadata": {
        "id": "vu0LLVgoCHGJ"
      },
      "execution_count": null,
      "outputs": []
    },
    {
      "cell_type": "code",
      "source": [
        "word[ 2: ]"
      ],
      "metadata": {
        "id": "kSqlAuSMCKPV"
      },
      "execution_count": null,
      "outputs": []
    },
    {
      "cell_type": "code",
      "source": [
        "word[ :4] + word[4: ]"
      ],
      "metadata": {
        "id": "vJGNLhCnCL6u"
      },
      "execution_count": null,
      "outputs": []
    },
    {
      "cell_type": "code",
      "source": [
        "word[0:6 : 2]"
      ],
      "metadata": {
        "id": "xUQGOiI5CNVy"
      },
      "execution_count": null,
      "outputs": []
    },
    {
      "cell_type": "code",
      "source": [
        "word[ : : -1]"
      ],
      "metadata": {
        "id": "axE1dq9JCOuF"
      },
      "execution_count": null,
      "outputs": []
    },
    {
      "cell_type": "code",
      "source": [
        "word[20]"
      ],
      "metadata": {
        "id": "pxTzpOJzCQQr"
      },
      "execution_count": null,
      "outputs": []
    },
    {
      "cell_type": "code",
      "source": [
        "word[20:21]"
      ],
      "metadata": {
        "id": "qgZ9eCflCRgL"
      },
      "execution_count": null,
      "outputs": []
    },
    {
      "cell_type": "code",
      "source": [
        "word[:]"
      ],
      "metadata": {
        "id": "asjfC3sfCTF1"
      },
      "execution_count": null,
      "outputs": []
    },
    {
      "cell_type": "code",
      "source": [
        "word[40:]"
      ],
      "metadata": {
        "id": "xG7FVJumCUWJ"
      },
      "execution_count": null,
      "outputs": []
    },
    {
      "cell_type": "code",
      "source": [
        "'J'+word[1:]"
      ],
      "metadata": {
        "id": "paJtLkJvCXRR"
      },
      "execution_count": null,
      "outputs": []
    },
    {
      "cell_type": "code",
      "source": [
        "len(word)"
      ],
      "metadata": {
        "id": "C1uEFZsmCYqA"
      },
      "execution_count": null,
      "outputs": []
    },
    {
      "cell_type": "code",
      "source": [
        "len('Anaconda')"
      ],
      "metadata": {
        "id": "UJquspqxCaBY"
      },
      "execution_count": null,
      "outputs": []
    }
  ]
}