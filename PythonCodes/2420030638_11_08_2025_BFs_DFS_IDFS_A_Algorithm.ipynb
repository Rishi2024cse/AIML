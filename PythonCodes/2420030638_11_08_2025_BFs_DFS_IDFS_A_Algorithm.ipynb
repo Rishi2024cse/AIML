{
  "nbformat": 4,
  "nbformat_minor": 0,
  "metadata": {
    "colab": {
      "provenance": []
    },
    "kernelspec": {
      "name": "python3",
      "display_name": "Python 3"
    },
    "language_info": {
      "name": "python"
    }
  },
  "cells": [
    {
      "cell_type": "markdown",
      "source": [],
      "metadata": {
        "id": "D_ZSRuycLXoL"
      }
    },
    {
      "cell_type": "markdown",
      "source": [
        "Implement the the following search algorithms using Lists, Dictionaries and functions.\n",
        "-BFS\n",
        "-DFS\n",
        "-IDFS\n",
        "-A*"
      ],
      "metadata": {
        "id": "qGStQGXALZwR"
      }
    },
    {
      "cell_type": "code",
      "source": [
        "#BFS Code # represt the trees using dictionaries and perform the searching algorithms.\n",
        "graph = {\n",
        "    '5': ['3', '7'],\n",
        "    '3': ['2', '4'],\n",
        "    '7': ['8'],\n",
        "    '2': [],\n",
        "    '4': ['8'],\n",
        "    '8': []\n",
        "}\n",
        "visited = []\n",
        "queue = []\n",
        "\n",
        "def bfs(visited, graph, node):\n",
        "    visited.append(node)\n",
        "    queue.append(node)\n",
        "\n",
        "    while queue:\n",
        "        m = queue.pop(0)\n",
        "        print(m, end=\" \")\n",
        "\n",
        "        for neighbour in graph[m]:\n",
        "            if neighbour not in visited:\n",
        "                visited.append(neighbour)\n",
        "                queue.append(neighbour)\n",
        "\n",
        "print(\"Following is the Breath-First Search\")\n",
        "bfs(visited,graph,'5')"
      ],
      "metadata": {
        "colab": {
          "base_uri": "https://localhost:8080/"
        },
        "id": "R5zuKFamSg4g",
        "outputId": "32192e84-7b9e-41e4-d12d-b2e19c7800f9"
      },
      "execution_count": 17,
      "outputs": [
        {
          "output_type": "stream",
          "name": "stdout",
          "text": [
            "Following is the Breath-First Search\n",
            "5 3 7 2 4 8 "
          ]
        }
      ]
    },
    {
      "cell_type": "code",
      "source": [
        "#DFS code # represent the trees using dictionaries and perfrom the searching algorithms\n",
        "graph = {\n",
        "    '5': ['3', '7'],\n",
        "    '3': ['2', '4'],\n",
        "    '7': ['8'],\n",
        "    '2': [],\n",
        "    '4': ['8'],\n",
        "    '8': []\n",
        "}\n",
        "\n",
        "visited_dfs = set()\n",
        "\n",
        "def dfs(visited, graph, node):\n",
        "    if node not in visited:\n",
        "        print(node, end=\" \")\n",
        "        visited.add(node)\n",
        "        for neighbour in graph.get(node, []):\n",
        "            dfs(visited, graph, neighbour)\n",
        "\n",
        "print(\"Following is the Depth-First Search\")\n",
        "dfs(visited_dfs,graph,'5')\n"
      ],
      "metadata": {
        "colab": {
          "base_uri": "https://localhost:8080/"
        },
        "id": "2oxBqNgSSxx1",
        "outputId": "0f1d39ef-c95a-4afa-c572-d782afbd4269"
      },
      "execution_count": 18,
      "outputs": [
        {
          "output_type": "stream",
          "name": "stdout",
          "text": [
            "Following is the Depth-First Search\n",
            "5 3 2 4 8 7 "
          ]
        }
      ]
    },
    {
      "cell_type": "code",
      "source": [
        "#IDFS code # represent the tress using dictionaries and perform the searching algorithm\n",
        "graph = {\n",
        "    '5': ['3', '7'],\n",
        "    '3': ['2', '4'],\n",
        "    '7': ['8'],\n",
        "    '2': [],\n",
        "    '4': ['8'],\n",
        "    '8': []\n",
        "}\n",
        "\n",
        "def dls(node, depth):\n",
        "    \"\"\"Depth-Limited Search\"\"\"\n",
        "    if depth == 0:\n",
        "        return\n",
        "    print(node, end=\" \")\n",
        "    for neighbour in graph.get(node, []):\n",
        "        dls(neighbour, depth - 1)\n",
        "\n",
        "def iddfs(start, max_depth):\n",
        "    \"\"\"Iterative Deepening DFS\"\"\"\n",
        "    for depth in range(1, max_depth + 1):\n",
        "        print(f\"\\nDepth Limit = {depth}: \", end=\"\")\n",
        "        dls(start, depth)\n",
        "\n",
        "print(\"Following is the Iterative Deepening DFS\")\n",
        "iddfs('5', 3)\n",
        "\n"
      ],
      "metadata": {
        "colab": {
          "base_uri": "https://localhost:8080/"
        },
        "id": "FMlY51sZUZTW",
        "outputId": "aa62cc3e-55bf-4d87-d847-7cff63f5c60c"
      },
      "execution_count": 1,
      "outputs": [
        {
          "output_type": "stream",
          "name": "stdout",
          "text": [
            "Following is the Iterative Deepening DFS\n",
            "\n",
            "Depth Limit = 1: 5 \n",
            "Depth Limit = 2: 5 3 7 \n",
            "Depth Limit = 3: 5 3 2 4 7 8 "
          ]
        }
      ]
    },
    {
      "cell_type": "code",
      "source": [
        "# A* Algorithm # represent the tree using dictionaries and perform the searching algoritm\n",
        "\n",
        "import heapq\n",
        "\n",
        "# Graph in the same style as DFS code\n",
        "graph = {\n",
        "    'A': [('B', 1), ('C', 3)],\n",
        "    'B': [('D', 1), ('E', 5)],\n",
        "    'C': [('F', 2)],\n",
        "    'D': [],\n",
        "    'E': [('G', 2)],\n",
        "    'F': [('G', 5)],\n",
        "    'G': []\n",
        "}\n",
        "\n",
        "# Heuristic values (straight-line distance or estimated cost to goal)\n",
        "heuristic = {\n",
        "    'A': 7,\n",
        "    'B': 6,\n",
        "    'C': 4,\n",
        "    'D': 4,\n",
        "    'E': 2,\n",
        "    'F': 3,\n",
        "    'G': 0\n",
        "}\n",
        "\n",
        "def a_star(start, goal):\n",
        "    # Priority queue: (total_cost, path_cost, node, path_taken)\n",
        "    pq = [(heuristic[start], 0, start, [start])]\n",
        "    visited = set()\n",
        "\n",
        "    while pq:\n",
        "        total_cost, cost_so_far, current, path = heapq.heappop(pq)\n",
        "\n",
        "        if current in visited:\n",
        "            continue\n",
        "        visited.add(current)\n",
        "\n",
        "        if current == goal:\n",
        "            print(f\"Path: {' -> '.join(path)} | Cost: {cost_so_far}\")\n",
        "            return\n",
        "\n",
        "        for neighbor, step_cost in graph.get(current, []):\n",
        "            new_cost = cost_so_far + step_cost\n",
        "            heapq.heappush(pq, (new_cost + heuristic[neighbor], new_cost, neighbor, path + [neighbor]))\n",
        "\n",
        "    print(\"No path found.\")\n",
        "\n",
        "print(\"Following is the A* Search\")\n",
        "a_star('A', 'G')\n"
      ],
      "metadata": {
        "colab": {
          "base_uri": "https://localhost:8080/"
        },
        "id": "yAdt3iem0ckC",
        "outputId": "2fb145fb-ee2e-490e-c17e-723e3c6498fa"
      },
      "execution_count": 2,
      "outputs": [
        {
          "output_type": "stream",
          "name": "stdout",
          "text": [
            "Following is the A* Search\n",
            "Path: A -> B -> E -> G | Cost: 8\n"
          ]
        }
      ]
    }
  ]
}